{
 "cells": [
  {
   "cell_type": "markdown",
   "id": "9839c9ed",
   "metadata": {},
   "source": [
    "# TASK 3\n",
    "Detection of \"fake news\" - classification of articles with titles. The goal of the task is to develop a classifier that will assign one of four classes based on the content and title of the article (see source for details).\n",
    "\n",
    "Sources and explanations of the data:\n",
    "http://www.fakenewschallenge.org/\n",
    "\n",
    "\n",
    "**Input** : A headline and a body text - either from the same news article or from two different articles.\n",
    "\n",
    "**Output**: Classify the stance of the body text relative to the claim made in the headline into one of four categories:\n",
    "* Agrees: The body text agrees with the headline.\n",
    "* Disagrees: The body text disagrees with the headline.\n",
    "* Discusses: The body text discuss the same topic as the headline, but does not take a position\n",
    "* Unrelated: The body text discusses a different topic than the headline"
   ]
  },
  {
   "cell_type": "code",
   "execution_count": 75,
   "id": "7bd7de73",
   "metadata": {},
   "outputs": [],
   "source": [
    "import pandas as pd\n",
    "import numpy as np\n",
    "import matplotlib.pyplot as plt\n",
    "import seaborn as sns\n",
    "\n",
    "import string\n",
    "import nltk\n",
    "from nltk.tokenize import word_tokenize\n",
    "from nltk.corpus import stopwords as nltk_stopwords\n",
    "from nltk.util import ngrams\n",
    "\n",
    "from sklearn.ensemble import RandomForestClassifier, GradientBoostingClassifier\n",
    "from sklearn.tree import DecisionTreeClassifier\n",
    "from sklearn.neighbors import KNeighborsClassifier\n",
    "from sklearn.naive_bayes import GaussianNB\n",
    "from sklearn.svm import SVC\n",
    "\n",
    "from sklearn.metrics import accuracy_score, precision_recall_fscore_support\n",
    "from sklearn.model_selection import train_test_split\n",
    "from sklearn.model_selection import KFold\n",
    "from sklearn.metrics import plot_confusion_matrix, classification_report\n",
    "\n",
    "import warnings\n",
    "warnings.filterwarnings(\"ignore\")"
   ]
  },
  {
   "cell_type": "markdown",
   "id": "191cff4c",
   "metadata": {},
   "source": [
    "Read train data"
   ]
  },
  {
   "cell_type": "code",
   "execution_count": 2,
   "id": "c5f19138",
   "metadata": {},
   "outputs": [],
   "source": [
    "train_bodies = pd.read_csv('fnc-1-master/train_bodies.csv')\n",
    "train_stances = pd.read_csv('fnc-1-master/train_stances.csv')"
   ]
  },
  {
   "cell_type": "code",
   "execution_count": 3,
   "id": "93685f20",
   "metadata": {},
   "outputs": [
    {
     "data": {
      "text/html": [
       "<div>\n",
       "<style scoped>\n",
       "    .dataframe tbody tr th:only-of-type {\n",
       "        vertical-align: middle;\n",
       "    }\n",
       "\n",
       "    .dataframe tbody tr th {\n",
       "        vertical-align: top;\n",
       "    }\n",
       "\n",
       "    .dataframe thead th {\n",
       "        text-align: right;\n",
       "    }\n",
       "</style>\n",
       "<table border=\"1\" class=\"dataframe\">\n",
       "  <thead>\n",
       "    <tr style=\"text-align: right;\">\n",
       "      <th></th>\n",
       "      <th>Body ID</th>\n",
       "      <th>articleBody</th>\n",
       "    </tr>\n",
       "  </thead>\n",
       "  <tbody>\n",
       "    <tr>\n",
       "      <th>0</th>\n",
       "      <td>0</td>\n",
       "      <td>A small meteorite crashed into a wooded area i...</td>\n",
       "    </tr>\n",
       "    <tr>\n",
       "      <th>1</th>\n",
       "      <td>4</td>\n",
       "      <td>Last week we hinted at what was to come as Ebo...</td>\n",
       "    </tr>\n",
       "    <tr>\n",
       "      <th>2</th>\n",
       "      <td>5</td>\n",
       "      <td>(NEWSER) – Wonder how long a Quarter Pounder w...</td>\n",
       "    </tr>\n",
       "    <tr>\n",
       "      <th>3</th>\n",
       "      <td>6</td>\n",
       "      <td>Posting photos of a gun-toting child online, I...</td>\n",
       "    </tr>\n",
       "    <tr>\n",
       "      <th>4</th>\n",
       "      <td>7</td>\n",
       "      <td>At least 25 suspected Boko Haram insurgents we...</td>\n",
       "    </tr>\n",
       "  </tbody>\n",
       "</table>\n",
       "</div>"
      ],
      "text/plain": [
       "   Body ID                                        articleBody\n",
       "0        0  A small meteorite crashed into a wooded area i...\n",
       "1        4  Last week we hinted at what was to come as Ebo...\n",
       "2        5  (NEWSER) – Wonder how long a Quarter Pounder w...\n",
       "3        6  Posting photos of a gun-toting child online, I...\n",
       "4        7  At least 25 suspected Boko Haram insurgents we..."
      ]
     },
     "execution_count": 3,
     "metadata": {},
     "output_type": "execute_result"
    }
   ],
   "source": [
    "train_bodies.head()"
   ]
  },
  {
   "cell_type": "code",
   "execution_count": 4,
   "id": "5dff66ce",
   "metadata": {},
   "outputs": [
    {
     "data": {
      "text/html": [
       "<div>\n",
       "<style scoped>\n",
       "    .dataframe tbody tr th:only-of-type {\n",
       "        vertical-align: middle;\n",
       "    }\n",
       "\n",
       "    .dataframe tbody tr th {\n",
       "        vertical-align: top;\n",
       "    }\n",
       "\n",
       "    .dataframe thead th {\n",
       "        text-align: right;\n",
       "    }\n",
       "</style>\n",
       "<table border=\"1\" class=\"dataframe\">\n",
       "  <thead>\n",
       "    <tr style=\"text-align: right;\">\n",
       "      <th></th>\n",
       "      <th>Headline</th>\n",
       "      <th>Body ID</th>\n",
       "      <th>Stance</th>\n",
       "    </tr>\n",
       "  </thead>\n",
       "  <tbody>\n",
       "    <tr>\n",
       "      <th>0</th>\n",
       "      <td>Police find mass graves with at least '15 bodi...</td>\n",
       "      <td>712</td>\n",
       "      <td>unrelated</td>\n",
       "    </tr>\n",
       "    <tr>\n",
       "      <th>1</th>\n",
       "      <td>Hundreds of Palestinians flee floods in Gaza a...</td>\n",
       "      <td>158</td>\n",
       "      <td>agree</td>\n",
       "    </tr>\n",
       "    <tr>\n",
       "      <th>2</th>\n",
       "      <td>Christian Bale passes on role of Steve Jobs, a...</td>\n",
       "      <td>137</td>\n",
       "      <td>unrelated</td>\n",
       "    </tr>\n",
       "    <tr>\n",
       "      <th>3</th>\n",
       "      <td>HBO and Apple in Talks for $15/Month Apple TV ...</td>\n",
       "      <td>1034</td>\n",
       "      <td>unrelated</td>\n",
       "    </tr>\n",
       "    <tr>\n",
       "      <th>4</th>\n",
       "      <td>Spider burrowed through tourist's stomach and ...</td>\n",
       "      <td>1923</td>\n",
       "      <td>disagree</td>\n",
       "    </tr>\n",
       "  </tbody>\n",
       "</table>\n",
       "</div>"
      ],
      "text/plain": [
       "                                            Headline  Body ID     Stance\n",
       "0  Police find mass graves with at least '15 bodi...      712  unrelated\n",
       "1  Hundreds of Palestinians flee floods in Gaza a...      158      agree\n",
       "2  Christian Bale passes on role of Steve Jobs, a...      137  unrelated\n",
       "3  HBO and Apple in Talks for $15/Month Apple TV ...     1034  unrelated\n",
       "4  Spider burrowed through tourist's stomach and ...     1923   disagree"
      ]
     },
     "execution_count": 4,
     "metadata": {},
     "output_type": "execute_result"
    }
   ],
   "source": [
    "train_stances.head()"
   ]
  },
  {
   "cell_type": "code",
   "execution_count": 5,
   "id": "cecd548f",
   "metadata": {},
   "outputs": [
    {
     "name": "stdout",
     "output_type": "stream",
     "text": [
      "<class 'pandas.core.frame.DataFrame'>\n",
      "RangeIndex: 1683 entries, 0 to 1682\n",
      "Data columns (total 2 columns):\n",
      " #   Column       Non-Null Count  Dtype \n",
      "---  ------       --------------  ----- \n",
      " 0   Body ID      1683 non-null   int64 \n",
      " 1   articleBody  1683 non-null   object\n",
      "dtypes: int64(1), object(1)\n",
      "memory usage: 19.8+ KB\n"
     ]
    }
   ],
   "source": [
    "train_bodies.info()"
   ]
  },
  {
   "cell_type": "code",
   "execution_count": 6,
   "id": "24b49601",
   "metadata": {},
   "outputs": [
    {
     "name": "stdout",
     "output_type": "stream",
     "text": [
      "<class 'pandas.core.frame.DataFrame'>\n",
      "RangeIndex: 49972 entries, 0 to 49971\n",
      "Data columns (total 3 columns):\n",
      " #   Column    Non-Null Count  Dtype \n",
      "---  ------    --------------  ----- \n",
      " 0   Headline  49972 non-null  object\n",
      " 1   Body ID   49972 non-null  int64 \n",
      " 2   Stance    49972 non-null  object\n",
      "dtypes: int64(1), object(2)\n",
      "memory usage: 780.9+ KB\n"
     ]
    }
   ],
   "source": [
    "train_stances.info()"
   ]
  },
  {
   "cell_type": "markdown",
   "id": "25b9cc14",
   "metadata": {},
   "source": [
    "Drop duplicates"
   ]
  },
  {
   "cell_type": "code",
   "execution_count": 10,
   "id": "b47f04df",
   "metadata": {},
   "outputs": [
    {
     "data": {
      "text/plain": [
       "(0, 402)"
      ]
     },
     "execution_count": 10,
     "metadata": {},
     "output_type": "execute_result"
    }
   ],
   "source": [
    "train_bodies.duplicated().sum(), train_stances.duplicated().sum()"
   ]
  },
  {
   "cell_type": "code",
   "execution_count": 12,
   "id": "d72e834f",
   "metadata": {},
   "outputs": [],
   "source": [
    "train_stances.drop_duplicates(inplace=True)"
   ]
  },
  {
   "cell_type": "code",
   "execution_count": 13,
   "id": "9083fe10",
   "metadata": {},
   "outputs": [
    {
     "data": {
      "text/plain": [
       "(0, 0)"
      ]
     },
     "execution_count": 13,
     "metadata": {},
     "output_type": "execute_result"
    }
   ],
   "source": [
    "train_bodies.duplicated().sum(), train_stances.duplicated().sum()"
   ]
  },
  {
   "cell_type": "markdown",
   "id": "f2b8e652",
   "metadata": {},
   "source": [
    "Stance values distribution"
   ]
  },
  {
   "cell_type": "code",
   "execution_count": 19,
   "id": "57d75c59",
   "metadata": {},
   "outputs": [
    {
     "data": {
      "text/plain": [
       "<AxesSubplot:>"
      ]
     },
     "execution_count": 19,
     "metadata": {},
     "output_type": "execute_result"
    },
    {
     "data": {
      "image/png": "[encoded data removed]",
      "text/plain": [
       "<Figure size 432x288 with 1 Axes>"
      ]
     },
     "metadata": {
      "needs_background": "light"
     },
     "output_type": "display_data"
    }
   ],
   "source": [
    "train_stances['Stance'].value_counts().plot.bar()"
   ]
  },
  {
   "cell_type": "markdown",
   "id": "a3920c52",
   "metadata": {},
   "source": [
    "Distribution of classes is imbalanced, unrelated class significantly dominates over the other classes"
   ]
  },
  {
   "cell_type": "markdown",
   "id": "d8faabd8",
   "metadata": {},
   "source": [
    "To deal with this disorder, one can use methods such as:\n",
    "* undersampling - random elimination of minority class samples until class balance is achieved\n",
    "* oversampling - random duplication of minority class instances"
   ]
  },
  {
   "cell_type": "markdown",
   "id": "4a4e0eae",
   "metadata": {},
   "source": [
    "Body ID distribution"
   ]
  },
  {
   "cell_type": "code",
   "execution_count": 27,
   "id": "2eb5cd25",
   "metadata": {},
   "outputs": [
    {
     "data": {
      "text/plain": [
       "<AxesSubplot:>"
      ]
     },
     "execution_count": 27,
     "metadata": {},
     "output_type": "execute_result"
    },
    {
     "data": {
      "image/png": "[encoded data removed]",
      "text/plain": [
       "<Figure size 1440x360 with 1 Axes>"
      ]
     },
     "metadata": {
      "needs_background": "light"
     },
     "output_type": "display_data"
    }
   ],
   "source": [
    "train_stances['Body ID'].value_counts()[:100].plot.bar(figsize=(20,5))"
   ]
  },
  {
   "cell_type": "code",
   "execution_count": 58,
   "id": "7428574e",
   "metadata": {},
   "outputs": [
    {
     "data": {
      "text/html": [
       "<div>\n",
       "<style scoped>\n",
       "    .dataframe tbody tr th:only-of-type {\n",
       "        vertical-align: middle;\n",
       "    }\n",
       "\n",
       "    .dataframe tbody tr th {\n",
       "        vertical-align: top;\n",
       "    }\n",
       "\n",
       "    .dataframe thead th {\n",
       "        text-align: right;\n",
       "    }\n",
       "</style>\n",
       "<table border=\"1\" class=\"dataframe\">\n",
       "  <thead>\n",
       "    <tr style=\"text-align: right;\">\n",
       "      <th></th>\n",
       "      <th></th>\n",
       "      <th>Headline</th>\n",
       "    </tr>\n",
       "    <tr>\n",
       "      <th>Body ID</th>\n",
       "      <th>Stance</th>\n",
       "      <th></th>\n",
       "    </tr>\n",
       "  </thead>\n",
       "  <tbody>\n",
       "    <tr>\n",
       "      <th rowspan=\"2\" valign=\"top\">0</th>\n",
       "      <th>agree</th>\n",
       "      <td>1</td>\n",
       "    </tr>\n",
       "    <tr>\n",
       "      <th>unrelated</th>\n",
       "      <td>35</td>\n",
       "    </tr>\n",
       "    <tr>\n",
       "      <th>4</th>\n",
       "      <th>discuss</th>\n",
       "      <td>1</td>\n",
       "    </tr>\n",
       "    <tr>\n",
       "      <th rowspan=\"2\" valign=\"top\">5</th>\n",
       "      <th>discuss</th>\n",
       "      <td>2</td>\n",
       "    </tr>\n",
       "    <tr>\n",
       "      <th>unrelated</th>\n",
       "      <td>53</td>\n",
       "    </tr>\n",
       "    <tr>\n",
       "      <th>6</th>\n",
       "      <th>discuss</th>\n",
       "      <td>1</td>\n",
       "    </tr>\n",
       "    <tr>\n",
       "      <th rowspan=\"2\" valign=\"top\">7</th>\n",
       "      <th>discuss</th>\n",
       "      <td>2</td>\n",
       "    </tr>\n",
       "    <tr>\n",
       "      <th>unrelated</th>\n",
       "      <td>99</td>\n",
       "    </tr>\n",
       "    <tr>\n",
       "      <th rowspan=\"2\" valign=\"top\">8</th>\n",
       "      <th>agree</th>\n",
       "      <td>1</td>\n",
       "    </tr>\n",
       "    <tr>\n",
       "      <th>unrelated</th>\n",
       "      <td>42</td>\n",
       "    </tr>\n",
       "  </tbody>\n",
       "</table>\n",
       "</div>"
      ],
      "text/plain": [
       "                   Headline\n",
       "Body ID Stance             \n",
       "0       agree             1\n",
       "        unrelated        35\n",
       "4       discuss           1\n",
       "5       discuss           2\n",
       "        unrelated        53\n",
       "6       discuss           1\n",
       "7       discuss           2\n",
       "        unrelated        99\n",
       "8       agree             1\n",
       "        unrelated        42"
      ]
     },
     "execution_count": 58,
     "metadata": {},
     "output_type": "execute_result"
    }
   ],
   "source": [
    "train_stances.groupby([\"Body ID\", \"Stance\"]).count()[:10]"
   ]
  },
  {
   "cell_type": "markdown",
   "id": "e4a0b287",
   "metadata": {},
   "source": [
    "One may notice that major part of instances with unrelated stance can be deleted in order to undersample data"
   ]
  },
  {
   "cell_type": "markdown",
   "id": "49b744d9",
   "metadata": {},
   "source": [
    "### The modelling will be divided into to parts:\n",
    "* PART 1 - cleaning texts and classification of headlines without undersampling\n",
    "* PART 2 - classification with undersampling of data"
   ]
  },
  {
   "cell_type": "markdown",
   "id": "bd3e6246",
   "metadata": {},
   "source": [
    "#### PART 1"
   ]
  },
  {
   "cell_type": "markdown",
   "id": "d89f07e3",
   "metadata": {},
   "source": [
    "Functions for text preprocessing"
   ]
  },
  {
   "cell_type": "code",
   "execution_count": 60,
   "id": "2a8f4a2a",
   "metadata": {},
   "outputs": [],
   "source": [
    "def convert_to_sentences(article):\n",
    "    return article.split(\".\")\n",
    "\n",
    "def remove_whitespaces(article):\n",
    "    article = [line.strip() for line in article]\n",
    "    article = [line for line in article if line]\n",
    "    return article \n",
    "\n",
    "def convert_to_lowercase(article):\n",
    "    return [line.lower() for line in article]\n",
    "\n",
    "def remove_punctuation(article):\n",
    "    return [line.translate(str.maketrans('', '', string.punctuation)) for line in article]\n",
    "\n",
    "def remove_stopwords(article):\n",
    "    stopwords = set(nltk_stopwords.words('english'))\n",
    "    return [word for word in article if word not in stopwords]\n",
    "\n",
    "def tokenize(article):\n",
    "    return word_tokenize(article)\n",
    "\n",
    "def remove_non_alnum(article):\n",
    "    return [word for word in article if word.isalnum()]\n",
    "\n",
    "def preprocess_text(article):\n",
    "    article = convert_to_sentences(article)\n",
    "    article = remove_whitespaces(article)\n",
    "    article = remove_punctuation(article)\n",
    "    article = convert_to_lowercase(article)\n",
    "    article = ''.join(article)\n",
    "    article = tokenize(article)\n",
    "    article = remove_stopwords(article)\n",
    "    article = remove_non_alnum(article)\n",
    "    return article"
   ]
  },
  {
   "cell_type": "markdown",
   "id": "171f19b9",
   "metadata": {},
   "source": [
    "Cleaning bodies and headlines and merging dataframes into one"
   ]
  },
  {
   "cell_type": "code",
   "execution_count": 61,
   "id": "396750bf",
   "metadata": {},
   "outputs": [
    {
     "data": {
      "text/html": [
       "<div>\n",
       "<style scoped>\n",
       "    .dataframe tbody tr th:only-of-type {\n",
       "        vertical-align: middle;\n",
       "    }\n",
       "\n",
       "    .dataframe tbody tr th {\n",
       "        vertical-align: top;\n",
       "    }\n",
       "\n",
       "    .dataframe thead th {\n",
       "        text-align: right;\n",
       "    }\n",
       "</style>\n",
       "<table border=\"1\" class=\"dataframe\">\n",
       "  <thead>\n",
       "    <tr style=\"text-align: right;\">\n",
       "      <th></th>\n",
       "      <th>Body ID</th>\n",
       "      <th>bodyWords</th>\n",
       "      <th>headlineWords</th>\n",
       "      <th>Stance</th>\n",
       "    </tr>\n",
       "  </thead>\n",
       "  <tbody>\n",
       "    <tr>\n",
       "      <th>0</th>\n",
       "      <td>0</td>\n",
       "      <td>[small, meteorite, crashed, wooded, area, nica...</td>\n",
       "      <td>[soldier, shot, parliament, locked, gunfire, e...</td>\n",
       "      <td>unrelated</td>\n",
       "    </tr>\n",
       "    <tr>\n",
       "      <th>1</th>\n",
       "      <td>0</td>\n",
       "      <td>[small, meteorite, crashed, wooded, area, nica...</td>\n",
       "      <td>[tourist, dubbed, spider, man, spider, burrows...</td>\n",
       "      <td>unrelated</td>\n",
       "    </tr>\n",
       "    <tr>\n",
       "      <th>2</th>\n",
       "      <td>0</td>\n",
       "      <td>[small, meteorite, crashed, wooded, area, nica...</td>\n",
       "      <td>[luke, somers, killed, failed, rescue, attempt...</td>\n",
       "      <td>unrelated</td>\n",
       "    </tr>\n",
       "    <tr>\n",
       "      <th>3</th>\n",
       "      <td>0</td>\n",
       "      <td>[small, meteorite, crashed, wooded, area, nica...</td>\n",
       "      <td>[breaking, soldier, shot, war, memorial, ottawa]</td>\n",
       "      <td>unrelated</td>\n",
       "    </tr>\n",
       "    <tr>\n",
       "      <th>4</th>\n",
       "      <td>0</td>\n",
       "      <td>[small, meteorite, crashed, wooded, area, nica...</td>\n",
       "      <td>[giant, 8ft, 9in, catfish, weighing, 19, stone...</td>\n",
       "      <td>unrelated</td>\n",
       "    </tr>\n",
       "  </tbody>\n",
       "</table>\n",
       "</div>"
      ],
      "text/plain": [
       "   Body ID                                          bodyWords  \\\n",
       "0        0  [small, meteorite, crashed, wooded, area, nica...   \n",
       "1        0  [small, meteorite, crashed, wooded, area, nica...   \n",
       "2        0  [small, meteorite, crashed, wooded, area, nica...   \n",
       "3        0  [small, meteorite, crashed, wooded, area, nica...   \n",
       "4        0  [small, meteorite, crashed, wooded, area, nica...   \n",
       "\n",
       "                                       headlineWords     Stance  \n",
       "0  [soldier, shot, parliament, locked, gunfire, e...  unrelated  \n",
       "1  [tourist, dubbed, spider, man, spider, burrows...  unrelated  \n",
       "2  [luke, somers, killed, failed, rescue, attempt...  unrelated  \n",
       "3   [breaking, soldier, shot, war, memorial, ottawa]  unrelated  \n",
       "4  [giant, 8ft, 9in, catfish, weighing, 19, stone...  unrelated  "
      ]
     },
     "execution_count": 61,
     "metadata": {},
     "output_type": "execute_result"
    }
   ],
   "source": [
    "train_bodies['bodyWords'] = train_bodies['articleBody'].apply(preprocess_text)\n",
    "train_stances['headlineWords'] = train_stances['Headline'].apply(preprocess_text)\n",
    "train = pd.merge(train_bodies, train_stances, on='Body ID')\n",
    "train = train[['Body ID', 'bodyWords', 'headlineWords', 'Stance']]\n",
    "train.head()"
   ]
  },
  {
   "cell_type": "markdown",
   "id": "c347714f",
   "metadata": {},
   "source": [
    "Feature extraction by counting ngrams of headlines which appear in body text of articles"
   ]
  },
  {
   "cell_type": "code",
   "execution_count": 63,
   "id": "b5ae8708",
   "metadata": {},
   "outputs": [],
   "source": [
    "def n_grams_count(clean_body, clean_headline, n):\n",
    "    n_grams_count = []\n",
    "    for body, headline in zip(clean_body, clean_headline):\n",
    "        counter = 0\n",
    "        for headline_ngram in ngrams(headline, n=n):\n",
    "            if headline_ngram in set(ngrams(body, n=n)):\n",
    "                counter += 1\n",
    "        n_grams_count.append(counter)\n",
    "    return n_grams_count"
   ]
  },
  {
   "cell_type": "code",
   "execution_count": 64,
   "id": "60680cea",
   "metadata": {},
   "outputs": [
    {
     "data": {
      "text/html": [
       "<div>\n",
       "<style scoped>\n",
       "    .dataframe tbody tr th:only-of-type {\n",
       "        vertical-align: middle;\n",
       "    }\n",
       "\n",
       "    .dataframe tbody tr th {\n",
       "        vertical-align: top;\n",
       "    }\n",
       "\n",
       "    .dataframe thead th {\n",
       "        text-align: right;\n",
       "    }\n",
       "</style>\n",
       "<table border=\"1\" class=\"dataframe\">\n",
       "  <thead>\n",
       "    <tr style=\"text-align: right;\">\n",
       "      <th></th>\n",
       "      <th>Body ID</th>\n",
       "      <th>bodyWords</th>\n",
       "      <th>headlineWords</th>\n",
       "      <th>Stance</th>\n",
       "      <th>ngrams_2</th>\n",
       "      <th>ngrams_3</th>\n",
       "      <th>ngrams_4</th>\n",
       "      <th>ngrams_5</th>\n",
       "    </tr>\n",
       "  </thead>\n",
       "  <tbody>\n",
       "    <tr>\n",
       "      <th>0</th>\n",
       "      <td>0</td>\n",
       "      <td>[small, meteorite, crashed, wooded, area, nica...</td>\n",
       "      <td>[soldier, shot, parliament, locked, gunfire, e...</td>\n",
       "      <td>unrelated</td>\n",
       "      <td>0</td>\n",
       "      <td>0</td>\n",
       "      <td>0</td>\n",
       "      <td>0</td>\n",
       "    </tr>\n",
       "    <tr>\n",
       "      <th>1</th>\n",
       "      <td>0</td>\n",
       "      <td>[small, meteorite, crashed, wooded, area, nica...</td>\n",
       "      <td>[tourist, dubbed, spider, man, spider, burrows...</td>\n",
       "      <td>unrelated</td>\n",
       "      <td>0</td>\n",
       "      <td>0</td>\n",
       "      <td>0</td>\n",
       "      <td>0</td>\n",
       "    </tr>\n",
       "    <tr>\n",
       "      <th>2</th>\n",
       "      <td>0</td>\n",
       "      <td>[small, meteorite, crashed, wooded, area, nica...</td>\n",
       "      <td>[luke, somers, killed, failed, rescue, attempt...</td>\n",
       "      <td>unrelated</td>\n",
       "      <td>0</td>\n",
       "      <td>0</td>\n",
       "      <td>0</td>\n",
       "      <td>0</td>\n",
       "    </tr>\n",
       "    <tr>\n",
       "      <th>3</th>\n",
       "      <td>0</td>\n",
       "      <td>[small, meteorite, crashed, wooded, area, nica...</td>\n",
       "      <td>[breaking, soldier, shot, war, memorial, ottawa]</td>\n",
       "      <td>unrelated</td>\n",
       "      <td>0</td>\n",
       "      <td>0</td>\n",
       "      <td>0</td>\n",
       "      <td>0</td>\n",
       "    </tr>\n",
       "    <tr>\n",
       "      <th>4</th>\n",
       "      <td>0</td>\n",
       "      <td>[small, meteorite, crashed, wooded, area, nica...</td>\n",
       "      <td>[giant, 8ft, 9in, catfish, weighing, 19, stone...</td>\n",
       "      <td>unrelated</td>\n",
       "      <td>0</td>\n",
       "      <td>0</td>\n",
       "      <td>0</td>\n",
       "      <td>0</td>\n",
       "    </tr>\n",
       "    <tr>\n",
       "      <th>...</th>\n",
       "      <td>...</td>\n",
       "      <td>...</td>\n",
       "      <td>...</td>\n",
       "      <td>...</td>\n",
       "      <td>...</td>\n",
       "      <td>...</td>\n",
       "      <td>...</td>\n",
       "      <td>...</td>\n",
       "    </tr>\n",
       "    <tr>\n",
       "      <th>49565</th>\n",
       "      <td>2532</td>\n",
       "      <td>[ann, arbor, pizza, delivery, man, michigan, g...</td>\n",
       "      <td>[pizza, delivery, driver, surprised, 2000, tip]</td>\n",
       "      <td>agree</td>\n",
       "      <td>2</td>\n",
       "      <td>0</td>\n",
       "      <td>0</td>\n",
       "      <td>0</td>\n",
       "    </tr>\n",
       "    <tr>\n",
       "      <th>49566</th>\n",
       "      <td>2532</td>\n",
       "      <td>[ann, arbor, pizza, delivery, man, michigan, g...</td>\n",
       "      <td>[pizza, delivery, man, gets, tipped, 2000, sin...</td>\n",
       "      <td>agree</td>\n",
       "      <td>2</td>\n",
       "      <td>1</td>\n",
       "      <td>0</td>\n",
       "      <td>0</td>\n",
       "    </tr>\n",
       "    <tr>\n",
       "      <th>49567</th>\n",
       "      <td>2532</td>\n",
       "      <td>[ann, arbor, pizza, delivery, man, michigan, g...</td>\n",
       "      <td>[pizza, delivery, man, gets, 2000, tip]</td>\n",
       "      <td>agree</td>\n",
       "      <td>2</td>\n",
       "      <td>1</td>\n",
       "      <td>0</td>\n",
       "      <td>0</td>\n",
       "    </tr>\n",
       "    <tr>\n",
       "      <th>49568</th>\n",
       "      <td>2532</td>\n",
       "      <td>[ann, arbor, pizza, delivery, man, michigan, g...</td>\n",
       "      <td>[luckiest, pizza, delivery, guy, ever, gets, 2...</td>\n",
       "      <td>agree</td>\n",
       "      <td>1</td>\n",
       "      <td>0</td>\n",
       "      <td>0</td>\n",
       "      <td>0</td>\n",
       "    </tr>\n",
       "    <tr>\n",
       "      <th>49569</th>\n",
       "      <td>2532</td>\n",
       "      <td>[ann, arbor, pizza, delivery, man, michigan, g...</td>\n",
       "      <td>[ann, arbor, pizza, delivery, driver, surprise...</td>\n",
       "      <td>agree</td>\n",
       "      <td>4</td>\n",
       "      <td>2</td>\n",
       "      <td>1</td>\n",
       "      <td>0</td>\n",
       "    </tr>\n",
       "  </tbody>\n",
       "</table>\n",
       "<p>49570 rows × 8 columns</p>\n",
       "</div>"
      ],
      "text/plain": [
       "       Body ID                                          bodyWords  \\\n",
       "0            0  [small, meteorite, crashed, wooded, area, nica...   \n",
       "1            0  [small, meteorite, crashed, wooded, area, nica...   \n",
       "2            0  [small, meteorite, crashed, wooded, area, nica...   \n",
       "3            0  [small, meteorite, crashed, wooded, area, nica...   \n",
       "4            0  [small, meteorite, crashed, wooded, area, nica...   \n",
       "...        ...                                                ...   \n",
       "49565     2532  [ann, arbor, pizza, delivery, man, michigan, g...   \n",
       "49566     2532  [ann, arbor, pizza, delivery, man, michigan, g...   \n",
       "49567     2532  [ann, arbor, pizza, delivery, man, michigan, g...   \n",
       "49568     2532  [ann, arbor, pizza, delivery, man, michigan, g...   \n",
       "49569     2532  [ann, arbor, pizza, delivery, man, michigan, g...   \n",
       "\n",
       "                                           headlineWords     Stance  ngrams_2  \\\n",
       "0      [soldier, shot, parliament, locked, gunfire, e...  unrelated         0   \n",
       "1      [tourist, dubbed, spider, man, spider, burrows...  unrelated         0   \n",
       "2      [luke, somers, killed, failed, rescue, attempt...  unrelated         0   \n",
       "3       [breaking, soldier, shot, war, memorial, ottawa]  unrelated         0   \n",
       "4      [giant, 8ft, 9in, catfish, weighing, 19, stone...  unrelated         0   \n",
       "...                                                  ...        ...       ...   \n",
       "49565    [pizza, delivery, driver, surprised, 2000, tip]      agree         2   \n",
       "49566  [pizza, delivery, man, gets, tipped, 2000, sin...      agree         2   \n",
       "49567            [pizza, delivery, man, gets, 2000, tip]      agree         2   \n",
       "49568  [luckiest, pizza, delivery, guy, ever, gets, 2...      agree         1   \n",
       "49569  [ann, arbor, pizza, delivery, driver, surprise...      agree         4   \n",
       "\n",
       "       ngrams_3  ngrams_4  ngrams_5  \n",
       "0             0         0         0  \n",
       "1             0         0         0  \n",
       "2             0         0         0  \n",
       "3             0         0         0  \n",
       "4             0         0         0  \n",
       "...         ...       ...       ...  \n",
       "49565         0         0         0  \n",
       "49566         1         0         0  \n",
       "49567         1         0         0  \n",
       "49568         0         0         0  \n",
       "49569         2         1         0  \n",
       "\n",
       "[49570 rows x 8 columns]"
      ]
     },
     "execution_count": 64,
     "metadata": {},
     "output_type": "execute_result"
    }
   ],
   "source": [
    "for i in range(2,6):\n",
    "    train[f'ngrams_{i}'] = n_grams_count(train['bodyWords'], train['headlineWords'], i)\n",
    "train"
   ]
  },
  {
   "cell_type": "markdown",
   "id": "cdf9235c",
   "metadata": {},
   "source": [
    "Mapping classes to discrete values:\n",
    "0 - UNRELATED, 1 - AGREE, 2 - DISCUSS, 3 - DISAGREE"
   ]
  },
  {
   "cell_type": "code",
   "execution_count": 191,
   "id": "4a353b93",
   "metadata": {},
   "outputs": [],
   "source": [
    "mapping = {'unrelated': 0, 'agree': 1, 'discuss': 2, 'disagree': 3}\n",
    "\n",
    "X = train.iloc[:,-4:].values\n",
    "y = train['Stance'].map(mapping).values\n",
    "X_train, X_test, y_train, y_test = train_test_split(X, y, test_size=0.33, random_state=42)"
   ]
  },
  {
   "cell_type": "code",
   "execution_count": 68,
   "id": "2b791514",
   "metadata": {},
   "outputs": [],
   "source": [
    "models = {\n",
    "    'RandomForest': RandomForestClassifier(n_estimators=100, criterion='entropy'),\n",
    "    'GradientBoosting': GradientBoostingClassifier(n_estimators=100),\n",
    "    'KNearestNeighbor': KNeighborsClassifier(n_neighbors=5),\n",
    "    'SVC': SVC(),\n",
    "    'DecisionTree': DecisionTreeClassifier(),\n",
    "    'GaussianNB': GaussianNB(),\n",
    "}"
   ]
  },
  {
   "cell_type": "code",
   "execution_count": 69,
   "id": "aa9e94da",
   "metadata": {},
   "outputs": [
    {
     "name": "stdout",
     "output_type": "stream",
     "text": [
      "RandomForest\n",
      "GradientBoosting\n",
      "KNearestNeighbor\n",
      "SVC\n",
      "DecisionTree\n",
      "GaussianNB\n"
     ]
    }
   ],
   "source": [
    "results = pd.DataFrame(np.zeros((3, len(models))), columns=models.keys(), index=['accuracy', 'precision', 'recall'])\n",
    "for model in models.keys():\n",
    "    print(model)\n",
    "    models[model].fit(X_train, y_train)\n",
    "    y_pred = models[model].predict(X_test)\n",
    "    results[model] = [accuracy_score(y_test, y_pred)] + list(precision_recall_fscore_support(y_test, y_pred, average='micro')[:2])"
   ]
  },
  {
   "cell_type": "code",
   "execution_count": 70,
   "id": "1ef37324",
   "metadata": {},
   "outputs": [
    {
     "data": {
      "text/html": [
       "<div>\n",
       "<style scoped>\n",
       "    .dataframe tbody tr th:only-of-type {\n",
       "        vertical-align: middle;\n",
       "    }\n",
       "\n",
       "    .dataframe tbody tr th {\n",
       "        vertical-align: top;\n",
       "    }\n",
       "\n",
       "    .dataframe thead th {\n",
       "        text-align: right;\n",
       "    }\n",
       "</style>\n",
       "<table border=\"1\" class=\"dataframe\">\n",
       "  <thead>\n",
       "    <tr style=\"text-align: right;\">\n",
       "      <th></th>\n",
       "      <th>accuracy</th>\n",
       "      <th>precision</th>\n",
       "      <th>recall</th>\n",
       "    </tr>\n",
       "  </thead>\n",
       "  <tbody>\n",
       "    <tr>\n",
       "      <th>RandomForest</th>\n",
       "      <td>84.41</td>\n",
       "      <td>84.41</td>\n",
       "      <td>84.41</td>\n",
       "    </tr>\n",
       "    <tr>\n",
       "      <th>GradientBoosting</th>\n",
       "      <td>84.40</td>\n",
       "      <td>84.40</td>\n",
       "      <td>84.40</td>\n",
       "    </tr>\n",
       "    <tr>\n",
       "      <th>KNearestNeighbor</th>\n",
       "      <td>83.97</td>\n",
       "      <td>83.97</td>\n",
       "      <td>83.97</td>\n",
       "    </tr>\n",
       "    <tr>\n",
       "      <th>SVC</th>\n",
       "      <td>84.38</td>\n",
       "      <td>84.38</td>\n",
       "      <td>84.38</td>\n",
       "    </tr>\n",
       "    <tr>\n",
       "      <th>DecisionTree</th>\n",
       "      <td>84.38</td>\n",
       "      <td>84.38</td>\n",
       "      <td>84.38</td>\n",
       "    </tr>\n",
       "    <tr>\n",
       "      <th>GaussianNB</th>\n",
       "      <td>84.01</td>\n",
       "      <td>84.01</td>\n",
       "      <td>84.01</td>\n",
       "    </tr>\n",
       "  </tbody>\n",
       "</table>\n",
       "</div>"
      ],
      "text/plain": [
       "                  accuracy  precision  recall\n",
       "RandomForest         84.41      84.41   84.41\n",
       "GradientBoosting     84.40      84.40   84.40\n",
       "KNearestNeighbor     83.97      83.97   83.97\n",
       "SVC                  84.38      84.38   84.38\n",
       "DecisionTree         84.38      84.38   84.38\n",
       "GaussianNB           84.01      84.01   84.01"
      ]
     },
     "execution_count": 70,
     "metadata": {},
     "output_type": "execute_result"
    }
   ],
   "source": [
    "results = results.T.round(4) * 100\n",
    "results"
   ]
  },
  {
   "cell_type": "code",
   "execution_count": 71,
   "id": "3ca9609f",
   "metadata": {},
   "outputs": [
    {
     "data": {
      "text/plain": [
       "('RandomForest', 84.41)"
      ]
     },
     "execution_count": 71,
     "metadata": {},
     "output_type": "execute_result"
    }
   ],
   "source": [
    "results.index[results['accuracy'].argmax()], results['accuracy'].max()"
   ]
  },
  {
   "cell_type": "markdown",
   "id": "90e984c1",
   "metadata": {},
   "source": [
    "#### Best model - Random Forest"
   ]
  },
  {
   "cell_type": "code",
   "execution_count": 192,
   "id": "3921bba6",
   "metadata": {},
   "outputs": [
    {
     "data": {
      "image/png": "[encoded data removed]",
      "text/plain": [
       "<Figure size 432x288 with 2 Axes>"
      ]
     },
     "metadata": {
      "needs_background": "light"
     },
     "output_type": "display_data"
    }
   ],
   "source": [
    "model = RandomForestClassifier(class_weight='balanced').fit(X_train, y_train)\n",
    "ax = plt.subplot()\n",
    "y_pred = model.predict(X_test)\n",
    "plot_confusion_matrix(model, X_test, y_test, ax=ax)\n",
    "ax.set_title(\"Confusion matrix\")\n",
    "ax.set(xticklabels=mapping.keys(), yticklabels=mapping.keys())\n",
    "plt.show()"
   ]
  },
  {
   "cell_type": "code",
   "execution_count": 193,
   "id": "1863ae82",
   "metadata": {},
   "outputs": [
    {
     "name": "stdout",
     "output_type": "stream",
     "text": [
      "              precision    recall  f1-score   support\n",
      "\n",
      "   unrelated       0.90      0.98      0.94     11969\n",
      "       agree       0.29      0.21      0.24      1202\n",
      "     discuss       0.62      0.51      0.56      2910\n",
      "    disagree       0.06      0.01      0.02       278\n",
      "\n",
      "    accuracy                           0.82     16359\n",
      "   macro avg       0.47      0.43      0.44     16359\n",
      "weighted avg       0.79      0.82      0.80     16359\n",
      "\n"
     ]
    }
   ],
   "source": [
    "report1 = classification_report(y_test, y_pred, target_names=mapping.keys())\n",
    "print(report1)"
   ]
  },
  {
   "cell_type": "markdown",
   "id": "09c7e0f5",
   "metadata": {},
   "source": [
    "As we may notice metrics for less numerous classes are much lower"
   ]
  },
  {
   "cell_type": "markdown",
   "id": "7eb835de",
   "metadata": {},
   "source": [
    "#### PART 2"
   ]
  },
  {
   "cell_type": "code",
   "execution_count": 182,
   "id": "52fb5d68",
   "metadata": {},
   "outputs": [
    {
     "data": {
      "text/plain": [
       "1921    184\n",
       "1948    173\n",
       "40      171\n",
       "524     170\n",
       "1549    166\n",
       "       ... \n",
       "608      32\n",
       "714      32\n",
       "2508     32\n",
       "2336     32\n",
       "311      32\n",
       "Name: Body ID, Length: 600, dtype: int64"
      ]
     },
     "execution_count": 182,
     "metadata": {},
     "output_type": "execute_result"
    }
   ],
   "source": [
    "train['Body ID'].value_counts()[:600]"
   ]
  },
  {
   "cell_type": "markdown",
   "id": "0fc158eb",
   "metadata": {},
   "source": [
    "Delete rows which have more than 32 instances of one Body ID and Stance is 'unrelated'"
   ]
  },
  {
   "cell_type": "code",
   "execution_count": 183,
   "id": "11804aa9",
   "metadata": {},
   "outputs": [],
   "source": [
    "id_to_remove = train['Body ID'].value_counts().reset_index()[:600]['index'].values"
   ]
  },
  {
   "cell_type": "code",
   "execution_count": 184,
   "id": "b80be4b3",
   "metadata": {},
   "outputs": [],
   "source": [
    "new_train = train.drop(train[(train['Stance'] == 'unrelated') & (train['Body ID'].isin(id_to_remove))].sample(frac=.7).index)"
   ]
  },
  {
   "cell_type": "code",
   "execution_count": 185,
   "id": "be662a2b",
   "metadata": {},
   "outputs": [
    {
     "data": {
      "text/plain": [
       "<AxesSubplot:>"
      ]
     },
     "execution_count": 185,
     "metadata": {},
     "output_type": "execute_result"
    },
    {
     "data": {
      "image/png": "[encoded data removed]",
      "text/plain": [
       "<Figure size 432x288 with 1 Axes>"
      ]
     },
     "metadata": {
      "needs_background": "light"
     },
     "output_type": "display_data"
    }
   ],
   "source": [
    "new_train['Stance'].value_counts().plot.bar() # NEW DISTRIBUTION"
   ]
  },
  {
   "cell_type": "code",
   "execution_count": 186,
   "id": "d6ac023e",
   "metadata": {},
   "outputs": [
    {
     "data": {
      "text/plain": [
       "<AxesSubplot:>"
      ]
     },
     "execution_count": 186,
     "metadata": {},
     "output_type": "execute_result"
    },
    {
     "data": {
      "image/png": "[encoded data removed]",
      "text/plain": [
       "<Figure size 432x288 with 1 Axes>"
      ]
     },
     "metadata": {
      "needs_background": "light"
     },
     "output_type": "display_data"
    }
   ],
   "source": [
    "train['Stance'].value_counts().plot.bar() # OLD DISTRIBUTION"
   ]
  },
  {
   "cell_type": "code",
   "execution_count": 197,
   "id": "120bbb74",
   "metadata": {},
   "outputs": [],
   "source": [
    "mapping = {'unrelated': 0, 'agree': 1, 'discuss': 2, 'disagree': 3}\n",
    "\n",
    "X = new_train.iloc[:,-4:].values\n",
    "y = new_train['Stance'].map(mapping).values\n",
    "X_train, X_test, y_train, y_test = train_test_split(X, y, test_size=0.33, random_state=42)"
   ]
  },
  {
   "cell_type": "code",
   "execution_count": 198,
   "id": "a38d06c4",
   "metadata": {},
   "outputs": [
    {
     "data": {
      "image/png": "[encoded data removed]",
      "text/plain": [
       "<Figure size 432x288 with 2 Axes>"
      ]
     },
     "metadata": {
      "needs_background": "light"
     },
     "output_type": "display_data"
    }
   ],
   "source": [
    "model = RandomForestClassifier(class_weight='balanced').fit(X_train, y_train)\n",
    "y_pred = model.predict(X_test)\n",
    "ax = plt.subplot()\n",
    "plot_confusion_matrix(model, X_test, y_test, ax=ax)\n",
    "ax.set_title(\"Confusion matrix\")\n",
    "ax.set(xticklabels=mapping.keys(), yticklabels=mapping.keys())\n",
    "plt.show()"
   ]
  },
  {
   "cell_type": "code",
   "execution_count": 199,
   "id": "251394a0",
   "metadata": {},
   "outputs": [
    {
     "name": "stdout",
     "output_type": "stream",
     "text": [
      "              precision    recall  f1-score   support\n",
      "\n",
      "   unrelated       0.79      0.98      0.88      5041\n",
      "       agree       0.29      0.12      0.17      1212\n",
      "     discuss       0.65      0.55      0.60      2982\n",
      "    disagree       0.05      0.04      0.05       272\n",
      "\n",
      "    accuracy                           0.71      9507\n",
      "   macro avg       0.45      0.43      0.42      9507\n",
      "weighted avg       0.66      0.71      0.68      9507\n",
      "\n"
     ]
    }
   ],
   "source": [
    "print(classification_report(y_test, y_pred, target_names=mapping.keys()))"
   ]
  },
  {
   "cell_type": "code",
   "execution_count": 200,
   "id": "4fbafa3e",
   "metadata": {},
   "outputs": [
    {
     "name": "stdout",
     "output_type": "stream",
     "text": [
      "Report from PART 1\n",
      "              precision    recall  f1-score   support\n",
      "\n",
      "   unrelated       0.90      0.98      0.94     11969\n",
      "       agree       0.29      0.21      0.24      1202\n",
      "     discuss       0.62      0.51      0.56      2910\n",
      "    disagree       0.06      0.01      0.02       278\n",
      "\n",
      "    accuracy                           0.82     16359\n",
      "   macro avg       0.47      0.43      0.44     16359\n",
      "weighted avg       0.79      0.82      0.80     16359\n",
      "\n"
     ]
    }
   ],
   "source": [
    "print(\"Report from PART 1\")\n",
    "print(report1)"
   ]
  },
  {
   "cell_type": "markdown",
   "id": "7b8a6d8d",
   "metadata": {},
   "source": [
    "Introduced modifications didn't bring spectacular changes in metrics results, however different methods of dealing with imbalanced classes and extraction of additional text features for modeling might be crucial "
   ]
  }
 ],
 "metadata": {
  "kernelspec": {
   "display_name": "Python 3 (ipykernel)",
   "language": "python",
   "name": "python3"
  },
  "language_info": {
   "codemirror_mode": {
    "name": "ipython",
    "version": 3
   },
   "file_extension": ".py",
   "mimetype": "text/x-python",
   "name": "python",
   "nbconvert_exporter": "python",
   "pygments_lexer": "ipython3",
   "version": "3.8.5"
  }
 },
 "nbformat": 4,
 "nbformat_minor": 5
}
